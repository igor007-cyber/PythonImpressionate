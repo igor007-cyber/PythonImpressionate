{
 "cells": [
  {
   "cell_type": "code",
   "execution_count": 1,
   "metadata": {},
   "outputs": [
    {
     "name": "stdout",
     "output_type": "stream",
     "text": [
      "('lira', '25/05/2000', 2000, 'estagiario')\n",
      "lira\n",
      "8\n"
     ]
    }
   ],
   "source": [
    "venda = ('lira', '25/05/2000',2000,'estagiario') # a tupla nao pode ser modificado\n",
    "print(venda)\n",
    "\n",
    "nome, data, salaraio, profissao = venda\n",
    "print(nome)\n",
    "\n",
    "lista = [\n",
    "    (1,2,3),\n",
    "    (4,5,6),\n",
    "    (7,8,9),\n",
    "]\n",
    "\n",
    "print(lista[0][0]+lista[2][0])"
   ]
  }
 ],
 "metadata": {
  "kernelspec": {
   "display_name": "Python 3",
   "language": "python",
   "name": "python3"
  },
  "language_info": {
   "codemirror_mode": {
    "name": "ipython",
    "version": 3
   },
   "file_extension": ".py",
   "mimetype": "text/x-python",
   "name": "python",
   "nbconvert_exporter": "python",
   "pygments_lexer": "ipython3",
   "version": "3.12.2"
  }
 },
 "nbformat": 4,
 "nbformat_minor": 2
}
