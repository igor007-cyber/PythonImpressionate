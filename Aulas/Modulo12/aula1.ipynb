{
 "cells": [
  {
   "cell_type": "code",
   "execution_count": 100,
   "metadata": {},
   "outputs": [
    {
     "name": "stdout",
     "output_type": "stream",
     "text": [
      "iphone\n",
      "hacking\n",
      "nao tem isso\n",
      "nao tem\n"
     ]
    }
   ],
   "source": [
    "vendas = {\n",
    "    'tecnologia': 'iphone',\n",
    "    'cuso': 'python',\n",
    "    'livros': 'hacking'\n",
    "}\n",
    "\n",
    "print(vendas['tecnologia'])\n",
    "print(vendas.get('livros'))\n",
    "\n",
    "if 'copo' in vendas:\n",
    "    print(vendas['copo'])\n",
    "else:\n",
    "    print('nao tem isso')\n",
    "    \n",
    "\n",
    "if vendas.get('jogos') == None:\n",
    "    print('nao tem')\n",
    "else:\n",
    "    print(vendas.get('jogos'))\n",
    "    "
   ]
  },
  {
   "cell_type": "code",
   "execution_count": 101,
   "metadata": {},
   "outputs": [
    {
     "name": "stdout",
     "output_type": "stream",
     "text": [
      "{'janeiro': 1000, 'maio': 2000, 'abril': 3000}\n",
      "{'janeiro': 1000, 'maio': 2000, 'abril': 3000, 'março': 500}\n",
      "{'janeiro': 1000, 'maio': 2000, 'abril': 3000, 'março': 500, 'julho': 1000, 'junho': 2000, 'agosto': 3000}\n",
      "{'maio': 2000, 'abril': 3000, 'março': 500, 'julho': 1000, 'junho': 2000, 'agosto': 3000}\n",
      "{'abril': 3000, 'março': 500, 'julho': 1000, 'junho': 2000, 'agosto': 3000}\n"
     ]
    }
   ],
   "source": [
    "lucro = {\n",
    "    'janeiro': 1000,\n",
    "    'maio': 2000,\n",
    "    'abril': 3000\n",
    "}\n",
    "lucros = {\n",
    "    'julho': 1000,\n",
    "    'junho': 2000,\n",
    "    'agosto': 3000\n",
    "}\n",
    "\n",
    "print(lucro)\n",
    "lucro['março'] = 500\n",
    "print(lucro)\n",
    "\n",
    "lucro.update(lucros)\n",
    "print(lucro)\n",
    "\n",
    "del lucro['janeiro']\n",
    "print(lucro)\n",
    "\n",
    "deletado = lucro.pop('maio')\n",
    "print(lucro)"
   ]
  },
  {
   "cell_type": "code",
   "execution_count": 102,
   "metadata": {},
   "outputs": [
    {
     "name": "stdout",
     "output_type": "stream",
     "text": [
      "tecnologia iphone\n",
      "cuso python\n",
      "livros hacking\n"
     ]
    }
   ],
   "source": [
    "coisas = {\n",
    "    'tecnologia': 'iphone',\n",
    "    'cuso': 'python',\n",
    "    'livros': 'hacking'\n",
    "}\n",
    "\n",
    "for chave in coisas:\n",
    "    print(chave,coisas[chave])"
   ]
  },
  {
   "cell_type": "code",
   "execution_count": 103,
   "metadata": {},
   "outputs": [
    {
     "name": "stdout",
     "output_type": "stream",
     "text": [
      "dict_items([('tecnologia', 'iphone'), ('cuso', 'python'), ('livros', 'hacking')])\n",
      "tecnologia iphone\n",
      "cuso python\n",
      "livros hacking\n"
     ]
    }
   ],
   "source": [
    "itensCoisas = coisas.items()\n",
    "print(itensCoisas)\n",
    "\n",
    "for item, valor in itensCoisas:\n",
    "    print(item, valor)"
   ]
  },
  {
   "cell_type": "code",
   "execution_count": 104,
   "metadata": {},
   "outputs": [
    {
     "name": "stdout",
     "output_type": "stream",
     "text": [
      "dict_keys(['tecnologia', 'cuso', 'livros'])\n",
      "dict_values(['iphone', 'python', 'hacking'])\n",
      "['tecnologia', 'cuso', 'livros']\n",
      "['iphone', 'python', 'hacking']\n"
     ]
    }
   ],
   "source": [
    "chaves = coisas.keys()\n",
    "value = coisas.values()\n",
    "print(chaves)\n",
    "print(value)\n",
    "\n",
    "print(list(chaves))\n",
    "print(list(value))"
   ]
  },
  {
   "cell_type": "code",
   "execution_count": 105,
   "metadata": {},
   "outputs": [
    {
     "name": "stdout",
     "output_type": "stream",
     "text": [
      "<zip object at 0x00000158F36A4040>\n",
      "{'mesa': '179', 'cadeira': '400', 'mouse': '56'}\n"
     ]
    }
   ],
   "source": [
    "produtos = ['mesa','cadeira','mouse']\n",
    "vender = ['179','400','56']\n",
    "\n",
    "lista_tuplas = zip(produtos,vender)\n",
    "print(lista_tuplas)\n",
    "\n",
    "dicionario_v = dict(lista_tuplas)\n",
    "print(dicionario_v)\n",
    "\n",
    "#dicionario = dict.fromkeys(produtos, 0)\n",
    "#print(dicionario)"
   ]
  }
 ],
 "metadata": {
  "kernelspec": {
   "display_name": "Python 3",
   "language": "python",
   "name": "python3"
  },
  "language_info": {
   "codemirror_mode": {
    "name": "ipython",
    "version": 3
   },
   "file_extension": ".py",
   "mimetype": "text/x-python",
   "name": "python",
   "nbconvert_exporter": "python",
   "pygments_lexer": "ipython3",
   "version": "3.12.2"
  }
 },
 "nbformat": 4,
 "nbformat_minor": 2
}
