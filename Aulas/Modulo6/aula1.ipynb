{
 "cells": [
  {
   "cell_type": "code",
   "execution_count": 3,
   "metadata": {},
   "outputs": [
    {
     "name": "stdout",
     "output_type": "stream",
     "text": [
      "ele e diferente\n"
     ]
    }
   ],
   "source": [
    "meta = 1500 \n",
    "num = 1000\n",
    "\n",
    "if meta == num:\n",
    "    print('esses numeros sao iguais')\n",
    "elif meta != num:\n",
    "    print('ele e diferente')\n",
    "else:\n",
    "    print('nao tem numero')\n"
   ]
  },
  {
   "cell_type": "markdown",
   "metadata": {},
   "source": [
    "Comparadores que voce pode colocar:\n",
    "\n",
    "- igual ==\n",
    "- diferente !=\n",
    "- maior >\n",
    "- menor <\n",
    "- maior igual >=\n",
    "- menor igual <=\n",
    "- in, o texto existe dentro de outro texto\n",
    "- not, verifica o contrario da comparação\n",
    "- and\n",
    "- or"
   ]
  }
 ],
 "metadata": {
  "kernelspec": {
   "display_name": "Python 3",
   "language": "python",
   "name": "python3"
  },
  "language_info": {
   "codemirror_mode": {
    "name": "ipython",
    "version": 3
   },
   "file_extension": ".py",
   "mimetype": "text/x-python",
   "name": "python",
   "nbconvert_exporter": "python",
   "pygments_lexer": "ipython3",
   "version": "3.12.2"
  }
 },
 "nbformat": 4,
 "nbformat_minor": 2
}
