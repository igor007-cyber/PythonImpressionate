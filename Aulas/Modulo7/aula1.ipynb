{
 "cells": [
  {
   "cell_type": "code",
   "execution_count": 10,
   "metadata": {},
   "outputs": [
    {
     "name": "stdout",
     "output_type": "stream",
     "text": [
      "15\n",
      "j\n",
      "j\n",
      "o\n",
      "jorge@gma\n",
      "il.com\n",
      "@gma\n"
     ]
    }
   ],
   "source": [
    "nome = 'jorge filho'\n",
    "email = 'jorge@gmail.com'\n",
    "\n",
    "print(len(email)) # vai dizer quantos caracteres tem a variavel\n",
    "print(nome[0])\n",
    "print(nome[-11])# ele pega negtivo\n",
    "print(nome[-1])# mas vai até aqui\n",
    "print(email[:9]) # ele vai pegar do 0 ao 8\n",
    "print(email[9:]) # ele vai pegar do 8 pra frente\n",
    "print(email[5:9]) # ele vai pegar do 4 ao 8 "
   ]
  }
 ],
 "metadata": {
  "kernelspec": {
   "display_name": "Python 3",
   "language": "python",
   "name": "python3"
  },
  "language_info": {
   "codemirror_mode": {
    "name": "ipython",
    "version": 3
   },
   "file_extension": ".py",
   "mimetype": "text/x-python",
   "name": "python",
   "nbconvert_exporter": "python",
   "pygments_lexer": "ipython3",
   "version": "3.12.2"
  }
 },
 "nbformat": 4,
 "nbformat_minor": 2
}
