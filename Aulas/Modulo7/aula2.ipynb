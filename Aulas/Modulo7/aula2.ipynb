{
 "cells": [
  {
   "cell_type": "code",
   "execution_count": 4,
   "metadata": {},
   "outputs": [
    {
     "name": "stdout",
     "output_type": "stream",
     "text": [
      "o seu faturamento é: 1500\n"
     ]
    }
   ],
   "source": [
    "fatura = 1500\n",
    "\n",
    "print('o seu faturamento é: %d' % fatura)  "
   ]
  },
  {
   "cell_type": "markdown",
   "metadata": {},
   "source": [
    "O perações com string \n",
    "\n",
    "str -> transforma o numero em string\n",
    "\n",
    "in -> verifica se um texto está contido dentro do outro\n",
    "\n",
    "%s -> subtitui textos \n",
    "\n",
    "%d -> substitui numeros decimais"
   ]
  }
 ],
 "metadata": {
  "kernelspec": {
   "display_name": "Python 3",
   "language": "python",
   "name": "python3"
  },
  "language_info": {
   "codemirror_mode": {
    "name": "ipython",
    "version": 3
   },
   "file_extension": ".py",
   "mimetype": "text/x-python",
   "name": "python",
   "nbconvert_exporter": "python",
   "pygments_lexer": "ipython3",
   "version": "3.12.2"
  }
 },
 "nbformat": 4,
 "nbformat_minor": 2
}
