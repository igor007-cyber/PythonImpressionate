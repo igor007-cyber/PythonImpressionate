{
 "cells": [
  {
   "cell_type": "code",
   "execution_count": 11,
   "metadata": {},
   "outputs": [
    {
     "name": "stdout",
     "output_type": "stream",
     "text": [
      "Lira\n",
      "lira\n",
      "1\n",
      "True\n",
      "4\n",
      "True\n",
      "True\n",
      "True\n",
      "lira\n",
      "['lira', 'gmail.com']\n"
     ]
    }
   ],
   "source": [
    "texto = 'liRa'\n",
    "texto2 = 'lira@gmail.com'\n",
    "texto3 = 'joao123'\n",
    "texto4 = 'joao'\n",
    "texto5 = '123'\n",
    "\n",
    "print(texto.capitalize()) # a primeira letra e maiuscula\n",
    "print(texto.casefold()) # vai ficar tudo minusculo\n",
    "print(texto2.count('.'))# vai contar quantos tem\n",
    "print(texto2.endswith('gmail.com'))# vi verificar se tem \n",
    "print(texto2.find('@'))# vai dizer onde é a posição\n",
    "print(texto3.isalnum())# verifica se o texto tem letra e numero\n",
    "print(texto4.isalpha())# verifica se o texto tem letra\n",
    "print(texto5.isnumeric())## verifica se o texto tem numero\n",
    "print(texto.replace('R', 'r'))\n",
    "print(texto2.split('@'))"
   ]
  }
 ],
 "metadata": {
  "kernelspec": {
   "display_name": "Python 3",
   "language": "python",
   "name": "python3"
  },
  "language_info": {
   "codemirror_mode": {
    "name": "ipython",
    "version": 3
   },
   "file_extension": ".py",
   "mimetype": "text/x-python",
   "name": "python",
   "nbconvert_exporter": "python",
   "pygments_lexer": "ipython3",
   "version": "3.12.2"
  }
 },
 "nbformat": 4,
 "nbformat_minor": 2
}
