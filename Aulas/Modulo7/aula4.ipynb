{
 "cells": [
  {
   "cell_type": "code",
   "execution_count": 3,
   "metadata": {},
   "outputs": [
    {
     "name": "stdout",
     "output_type": "stream",
     "text": [
      "meu email e esse:               jorger@gmail.com, show?\n",
      "meu email e esse: jorger@gmail.com              , show?\n",
      "meu email e esse:        jorger@gmail.com       , show?\n",
      "eu tenho +250 mas agora to devendo -100, show?\n"
     ]
    }
   ],
   "source": [
    "email = 'jorger@gmail.com'\n",
    "print('meu email e esse: {:>30}, show?'.format(email))\n",
    "print('meu email e esse: {:<30}, show?'.format(email))\n",
    "print('meu email e esse: {:^30}, show?'.format(email))\n",
    "\n",
    "num = 250\n",
    "num1 = -100\n",
    "print('eu tenho {:+} mas agora to devendo {:+}, show?'.format(num,num1))"
   ]
  },
  {
   "cell_type": "markdown",
   "metadata": {},
   "source": [
    ":< -> Alinhamento pra esquerda\n",
    "    \n",
    ":> -> Alinhamento pra direita\n",
    "\n",
    ":^ -> Alinhamento ao centro\n",
    "\n",
    ":+ -> coloca o sinal sempre na frente do numero\n",
    "\n",
    ":, -> coloca a virgula como separador de milhar\n",
    "\n",
    ":_ -> coloca o _ como separador de milhar\n",
    "\n",
    ":e -> formato cientifico\n",
    "\n",
    ":f -> numero com quantidade fixa de casas decimais\n",
    "\n",
    ":x -> formato HEX minuscula\n",
    "\n",
    ":X -> formato HEX maiuscula\n",
    "\n",
    ":% -> formato percentual"
   ]
  }
 ],
 "metadata": {
  "kernelspec": {
   "display_name": "Python 3",
   "language": "python",
   "name": "python3"
  },
  "language_info": {
   "codemirror_mode": {
    "name": "ipython",
    "version": 3
   },
   "file_extension": ".py",
   "mimetype": "text/x-python",
   "name": "python",
   "nbconvert_exporter": "python",
   "pygments_lexer": "ipython3",
   "version": "3.12.2"
  }
 },
 "nbformat": 4,
 "nbformat_minor": 2
}
