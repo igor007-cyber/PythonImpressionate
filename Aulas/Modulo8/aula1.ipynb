{
 "cells": [
  {
   "cell_type": "code",
   "execution_count": 71,
   "metadata": {},
   "outputs": [
    {
     "name": "stdout",
     "output_type": "stream",
     "text": [
      "['igor', 'ian', 'gabi']\n",
      "igor\n",
      "['igor', 'felipe', 'gabi']\n",
      "0\n",
      "100\n",
      "['igor', 'felipe']\n",
      "2\n",
      "['igor', 'felipe', 'ian', 'gabi', 'rebeca']\n",
      "5\n",
      "rebeca\n",
      "felipe\n"
     ]
    }
   ],
   "source": [
    "lista = [\"igor\",\"ian\",\"gabi\"]\n",
    "dinheiro = [100,50,10]\n",
    "\n",
    "print(lista)\n",
    "print(lista[0])\n",
    "\n",
    "lista[1] = 'felipe'\n",
    "print(lista)\n",
    "\n",
    "i = lista.index('igor') # verificar a posição da variavel\n",
    "qtd_dineiro = dinheiro[i]\n",
    "print(i)\n",
    "print(dinheiro[i])\n",
    "\n",
    "lista.append('ian') #-> adicionar na lista\n",
    "lista.remove('ian') #-> remover um item na lista\n",
    "lista.pop(2)#-> remover um item na lista\n",
    "print(lista)\n",
    "\n",
    "print(len(lista))\n",
    "lista.append('ian')\n",
    "lista.extend(['gabi','rebeca']) # adiciona mais de uma\n",
    "print(lista)\n",
    "\n",
    "print(len(lista))# quatos tem na lista\n",
    "print(max(lista))# valor maximo\n",
    "print(min(lista))# valor minimo"
   ]
  },
  {
   "cell_type": "markdown",
   "metadata": {},
   "source": [
    "Estudo sobre lista"
   ]
  },
  {
   "cell_type": "code",
   "execution_count": 72,
   "metadata": {},
   "outputs": [
    {
     "name": "stdout",
     "output_type": "stream",
     "text": [
      "['igor', 'felipe', 'ian', 'gabi', 'rebeca', 100, 50, 10]\n",
      "['felipe', 'gabi', 'ian', 'igor', 'rebeca']\n",
      "[100, 50, 10]\n",
      "felipe\n",
      "gabi\n",
      "ian\n",
      "igor\n",
      "rebeca\n"
     ]
    }
   ],
   "source": [
    "listaJuntar = lista + dinheiro \n",
    "print(listaJuntar)\n",
    "\n",
    "\n",
    "lista.sort()\n",
    "dinheiro.sort(reverse=True) # vai organizar o seu codigo, e nesse caso vai inverter\n",
    "print(lista)\n",
    "print(dinheiro)\n",
    "\n",
    "print('\\n'.join(lista))\n",
    "\n",
    "lista2 = lista.copy() # aqui voce vai copiar inves de apontar pra outra\n",
    "# ou assim:\n",
    "# lista[:]"
   ]
  }
 ],
 "metadata": {
  "kernelspec": {
   "display_name": "Python 3",
   "language": "python",
   "name": "python3"
  },
  "language_info": {
   "codemirror_mode": {
    "name": "ipython",
    "version": 3
   },
   "file_extension": ".py",
   "mimetype": "text/x-python",
   "name": "python",
   "nbconvert_exporter": "python",
   "pygments_lexer": "ipython3",
   "version": "3.12.2"
  }
 },
 "nbformat": 4,
 "nbformat_minor": 2
}
