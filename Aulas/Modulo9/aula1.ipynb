{
 "cells": [
  {
   "cell_type": "code",
   "execution_count": 19,
   "metadata": {},
   "outputs": [
    {
     "name": "stdout",
     "output_type": "stream",
     "text": [
      "1\n",
      "2\n",
      "3\n",
      "4\n",
      "5\n",
      "67\n",
      "8\n",
      "9\n",
      "10\n",
      "\n",
      "0\n",
      "1\n",
      "2\n",
      "3\n",
      "4\n",
      "\n",
      "Chegou à meta: 67\n",
      "\n",
      "0 - igor\n",
      "1 - ian\n",
      "2 - gabi\n",
      "3 - caio\n"
     ]
    }
   ],
   "source": [
    "num = [1,2,3,4,5,67,8,9,10]\n",
    "nome = ['igor','ian','gabi','caio']\n",
    "\n",
    "for x in num:\n",
    "    print(x)\n",
    "    \n",
    "print()\n",
    "\n",
    "for i in range(5):\n",
    "    print(i)\n",
    "    \n",
    "meta = 67\n",
    "\n",
    "print()\n",
    "\n",
    "for x in num:\n",
    "    if x == meta:\n",
    "        print(f'Chegou à meta: {x}')\n",
    "        break\n",
    "    \n",
    "print()\n",
    "\n",
    "for i,item in enumerate(nome):\n",
    "    print(f'{i} - {item}')"
   ]
  },
  {
   "cell_type": "code",
   "execution_count": 20,
   "metadata": {},
   "outputs": [
    {
     "name": "stdout",
     "output_type": "stream",
     "text": [
      "100\n",
      "200\n",
      "101\n",
      "201\n",
      "102\n",
      "202\n"
     ]
    }
   ],
   "source": [
    "vendas = [\n",
    "        [100,200],\n",
    "        [101,201],\n",
    "        [102,202],\n",
    "    ]\n",
    "\n",
    "for lista in vendas:\n",
    "    for qtd in lista:\n",
    "        print(qtd)"
   ]
  }
 ],
 "metadata": {
  "kernelspec": {
   "display_name": "Python 3",
   "language": "python",
   "name": "python3"
  },
  "language_info": {
   "codemirror_mode": {
    "name": "ipython",
    "version": 3
   },
   "file_extension": ".py",
   "mimetype": "text/x-python",
   "name": "python",
   "nbconvert_exporter": "python",
   "pygments_lexer": "ipython3",
   "version": "3.12.2"
  }
 },
 "nbformat": 4,
 "nbformat_minor": 2
}
