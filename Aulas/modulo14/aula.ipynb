{
 "cells": [
  {
   "cell_type": "code",
   "execution_count": 16,
   "metadata": {},
   "outputs": [
    {
     "name": "stdout",
     "output_type": "stream",
     "text": [
      "ola mundo\n"
     ]
    },
    {
     "name": "stdout",
     "output_type": "stream",
     "text": [
      "reultado: 11\n",
      "(15, 2.0, 5, 50)\n",
      "<class 'tuple'>\n"
     ]
    }
   ],
   "source": [
    "def nome():\n",
    "    print('ola mundo')\n",
    "    \n",
    "nome()\n",
    "\n",
    "def calculo():\n",
    "    return 10 + 10\n",
    "\n",
    "\n",
    "def teste(x,y) -> int:# Aqui so vai retorna so inteiro\n",
    "    z = x + y\n",
    "    return z\n",
    "\n",
    "def matematica(x,y):\n",
    "    soma = x + y\n",
    "    divisao = x / y\n",
    "    menos = x - y\n",
    "    mutiplicar = x * y\n",
    "    return soma,divisao,menos,mutiplicar\n",
    "        \n",
    "valor = int(input('digite um numero: '))\n",
    "valor2 = int(input('digite um numero: '))\n",
    "print(f'reultado: {teste(valor,valor2)}')\n",
    "calculo()\n",
    "\n",
    "print(matematica(10,5))\n",
    "print(type(matematica(10,5)))"
   ]
  },
  {
   "cell_type": "code",
   "execution_count": 17,
   "metadata": {},
   "outputs": [
    {
     "name": "stdout",
     "output_type": "stream",
     "text": [
      "89\n",
      "{'arg': 10, 'arg1': 20}\n",
      "None\n"
     ]
    }
   ],
   "source": [
    "def calc(*numeros):# pode mandar quantos quiser e vem no formato de tupla\n",
    "    soma = 0\n",
    "    for numero in numeros:\n",
    "        soma+=numero\n",
    "    return soma\n",
    "\n",
    "print(calc(10,20,30,29))\n",
    "\n",
    "def chaves(**numeros):# pode mandar quantos quiser e vem no formato de chaves\n",
    "    print(numeros)\n",
    "    \n",
    "print(chaves(arg = 10,arg1=20))"
   ]
  }
 ],
 "metadata": {
  "kernelspec": {
   "display_name": "Python 3",
   "language": "python",
   "name": "python3"
  },
  "language_info": {
   "codemirror_mode": {
    "name": "ipython",
    "version": 3
   },
   "file_extension": ".py",
   "mimetype": "text/x-python",
   "name": "python",
   "nbconvert_exporter": "python",
   "pygments_lexer": "ipython3",
   "version": "3.12.2"
  }
 },
 "nbformat": 4,
 "nbformat_minor": 2
}
