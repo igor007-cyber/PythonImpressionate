{
 "cells": [
  {
   "cell_type": "code",
   "execution_count": 6,
   "metadata": {},
   "outputs": [],
   "source": [
    "import qrcode as qr\n",
    "\n",
    "imagem = qr.make('https://www.instagram.com/cyber_gigor/')\n",
    "imagem.save('qrcode.png')\n"
   ]
  },
  {
   "cell_type": "code",
   "execution_count": 7,
   "metadata": {},
   "outputs": [],
   "source": [
    "import qrcode as qr\n",
    "from qrcode.image.styledpil import StyledPilImage as spi\n",
    "\n",
    "\n",
    "qr = qr.QRCode()\n",
    "qr.add_data('https://www.instagram.com/cyber_gigor/')\n",
    "\n",
    "imagens = qr.make_image(\n",
    "    image_factory=spi,\n",
    "    embeded_image_path='logo.jpg'\n",
    ")\n",
    "\n",
    "imagens.save('qrcode_logo.png')"
   ]
  }
 ],
 "metadata": {
  "kernelspec": {
   "display_name": "Python 3",
   "language": "python",
   "name": "python3"
  },
  "language_info": {
   "codemirror_mode": {
    "name": "ipython",
    "version": 3
   },
   "file_extension": ".py",
   "mimetype": "text/x-python",
   "name": "python",
   "nbconvert_exporter": "python",
   "pygments_lexer": "ipython3",
   "version": "3.12.2"
  }
 },
 "nbformat": 4,
 "nbformat_minor": 2
}
