{
 "cells": [
  {
   "cell_type": "code",
   "execution_count": 15,
   "metadata": {},
   "outputs": [
    {
     "name": "stdout",
     "output_type": "stream",
     "text": [
      "[6.0, 3.0, 2.1, 1.5]\n",
      "[6.0, 3.0, 2.1, 1.5]\n"
     ]
    }
   ],
   "source": [
    "def calcular_impostos(preco,imposto):\n",
    "    return preco*imposto\n",
    "\n",
    "produtos = ['vinho', 'coca', 'chocolate', 'doce']\n",
    "preco_produtos = [20,10,7,5]\n",
    "impostos = [preco*0.3 for preco in preco_produtos]\n",
    "# lista = [expressao for item in iterable]\n",
    "\n",
    "\n",
    "#for item in preco_produtos:\n",
    "    #impostos.append(item*0.3)\n",
    "    \n",
    "imposto = [calcular_impostos(preco,0.3) for preco in preco_produtos]\n",
    "\n",
    "print(imposto)\n",
    "print(impostos)"
   ]
  },
  {
   "cell_type": "code",
   "execution_count": 16,
   "metadata": {},
   "outputs": [
    {
     "name": "stdout",
     "output_type": "stream",
     "text": [
      "['vinho', 'coca', 'chocolate', 'doce']\n"
     ]
    }
   ],
   "source": [
    "produtos = ['vinho', 'coca', 'chocolate', 'doce']\n",
    "preco_produtos = [20,10,7,5]\n",
    "\n",
    "lista_aux = list(zip(preco_produtos,produtos))\n",
    "lista_aux.sort(reverse=True)\n",
    "produtos = [produto for vendas,produto in lista_aux]\n",
    "print(produtos)\n"
   ]
  },
  {
   "cell_type": "code",
   "execution_count": 17,
   "metadata": {},
   "outputs": [
    {
     "name": "stdout",
     "output_type": "stream",
     "text": [
      "['vinho']\n"
     ]
    }
   ],
   "source": [
    "# lista = [expressao for item in iterable if condição]\n",
    "\n",
    "produtos = ['vinho', 'coca', 'chocolate', 'doce']\n",
    "preco_produtos = [20,10,7,5]\n",
    "meta = 15\n",
    "\n",
    "produtos_cima_meta = [produto for i, produto in enumerate(produtos) if preco_produtos[i] > meta]\n",
    "print(produtos_cima_meta)\n"
   ]
  },
  {
   "cell_type": "code",
   "execution_count": 2,
   "metadata": {},
   "outputs": [
    {
     "name": "stdout",
     "output_type": "stream",
     "text": [
      "[120.0, 200.0, 0]\n"
     ]
    }
   ],
   "source": [
    "vendedores_dic={'jorge':1200,'maria':2000,'joao':500}\n",
    "meta = 1000\n",
    "\n",
    "bonus = [vendedores_dic[item]*0.1 if vendedores_dic[item] >= meta else 0 for item in vendedores_dic]\n",
    "print(bonus)"
   ]
  },
  {
   "cell_type": "code",
   "execution_count": null,
   "metadata": {},
   "outputs": [],
   "source": []
  }
 ],
 "metadata": {
  "kernelspec": {
   "display_name": "Python 3",
   "language": "python",
   "name": "python3"
  },
  "language_info": {
   "codemirror_mode": {
    "name": "ipython",
    "version": 3
   },
   "file_extension": ".py",
   "mimetype": "text/x-python",
   "name": "python",
   "nbconvert_exporter": "python",
   "pygments_lexer": "ipython3",
   "version": "3.12.2"
  }
 },
 "nbformat": 4,
 "nbformat_minor": 2
}
