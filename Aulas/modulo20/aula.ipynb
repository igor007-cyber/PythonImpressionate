{
 "cells": [
  {
   "cell_type": "code",
   "execution_count": 2,
   "metadata": {},
   "outputs": [
    {
     "name": "stdout",
     "output_type": "stream",
     "text": [
      "['abc12', 'abc345', 'cad25', 'ascv4']\n"
     ]
    }
   ],
   "source": [
    "#lista = list(map(função,iterable_original))\n",
    "\n",
    "def padronizar(texto):\n",
    "    texto = texto.casefold()\n",
    "    texto = texto.replace(' ', ' ')\n",
    "    texto = texto.strip()\n",
    "    return texto\n",
    "\n",
    "produtos = ['ABC12', 'abc345','caD25','AScv4']\n",
    "lista = list(map(padronizar,produtos))\n",
    "\n",
    "print(lista)"
   ]
  },
  {
   "cell_type": "code",
   "execution_count": 7,
   "metadata": {},
   "outputs": [
    {
     "name": "stdout",
     "output_type": "stream",
     "text": [
      "['ABC12', 'abc345', 'AScv4', 'caD25']\n",
      "[('valor', 1000), ('microondas', 500), ('cafeteira', 150)]\n"
     ]
    }
   ],
   "source": [
    "def segundo_item(tupla):\n",
    "    return tupla[1]\n",
    "\n",
    "produto = ['ABC12', 'abc345','caD25','AScv4']\n",
    "listas = {'valor':1000, 'cafeteira':150,'microondas':500}\n",
    "\n",
    "produto.sort(key=str.casefold)\n",
    "print(produto)\n",
    "\n",
    "lista_vendas = list(listas.items())\n",
    "lista_vendas.sort(key=segundo_item, reverse=True)\n",
    "print(lista_vendas)"
   ]
  },
  {
   "cell_type": "code",
   "execution_count": 16,
   "metadata": {},
   "outputs": [
    {
     "name": "stdout",
     "output_type": "stream",
     "text": [
      "10\n",
      "[1300.0, 195.0, 650.0]\n",
      "{'valor': 1000}\n"
     ]
    }
   ],
   "source": [
    "#funcao = lambda parametro: expressao\n",
    "\n",
    "teste = lambda num: num*2\n",
    "print(teste(5))\n",
    "\n",
    "valores = {'valor':1000, 'cafeteira':150,'microondas':500}\n",
    "\n",
    "preco = list(map(lambda preco: preco*1.3, valores.values()))\n",
    "print(preco)\n",
    "\n",
    "# filter(funçao,iterable)\n",
    "produtos_1000 = dict(list(filter(lambda produtos_1000: produtos_1000[1] >= 1000, valores.items())))\n",
    "print(produtos_1000)"
   ]
  }
 ],
 "metadata": {
  "kernelspec": {
   "display_name": "Python 3",
   "language": "python",
   "name": "python3"
  },
  "language_info": {
   "codemirror_mode": {
    "name": "ipython",
    "version": 3
   },
   "file_extension": ".py",
   "mimetype": "text/x-python",
   "name": "python",
   "nbconvert_exporter": "python",
   "pygments_lexer": "ipython3",
   "version": "3.12.2"
  }
 },
 "nbformat": 4,
 "nbformat_minor": 2
}
